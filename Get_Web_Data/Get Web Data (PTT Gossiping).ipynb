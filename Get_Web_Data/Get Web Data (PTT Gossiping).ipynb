{
 "cells": [
  {
   "cell_type": "code",
   "execution_count": null,
   "metadata": {},
   "outputs": [],
   "source": [
    "import requests\n",
    "import bs4\n",
    "from bs4 import BeautifulSoup\n",
    "from requests.packages.urllib3.exceptions import InsecureRequestWarning\n",
    "\n",
    "requests.packages.urllib3.disable_warnings(InsecureRequestWarning)\n",
    "        \n",
    "def PTTboard(board):\n",
    "    rs = requests.session()\n",
    "    agree18 = {\n",
    "    'from':'/bbs/'+ board +'/index.html',\n",
    "    'yes':'yes'\n",
    "    }\n",
    "    rspost = rs.post('https://www.ptt.cc/ask/over18' , verify = False, data = agree18)\n",
    "    \n",
    "    #PTT的頁面列表\n",
    "    SearchName = 'xxx'\n",
    "    pageindex = []\n",
    "    article_href_list = []\n",
    "    for pagenum in range(102,141): #106\n",
    "        #print(type(pagenum))\n",
    "        url = 'https://www.ptt.cc/bbs/' + board + '/search?page=' + str(pagenum) + '&q=' + SearchName\n",
    "        rsget = rs.get(url, verify = False)\n",
    "        rsbs = BeautifulSoup(rsget.text, 'html.parser')\n",
    "        \n",
    "        #PTT文章列表網址\n",
    "        for article in rsbs.select('.r-ent'):\n",
    "            #print(article)\n",
    "            content_href = article.select('div.title a')\n",
    "            for href in content_href:\n",
    "                #print(href['href'])\n",
    "                start = href['href'].find('M')\n",
    "                end = href['href'].find('.html')\n",
    "                articlenum = href['href'][start : end]\n",
    "                #print(articlenum)\n",
    "                articleurl = 'https://www.ptt.cc/bbs/Gossiping/' + articlenum + '.html'\n",
    "                article_href_list.append(articleurl)\n",
    "        #print(article_href_list) #每一列表的url\n",
    "        #print(article_href[5]) #每一列表第五篇文章的url\n",
    "\n",
    "        #print(article.select('.date')[0].text, article.select('.title')[0].text)\n",
    "    #print(article_href_list)\n",
    "    article_web_data(article_href_list)\n",
    "            \n",
    "    \n",
    "PTTboard('Gossiping')"
   ]
  }
 ],
 "metadata": {
  "kernelspec": {
   "display_name": "Python 3",
   "language": "python",
   "name": "python3"
  },
  "language_info": {
   "codemirror_mode": {
    "name": "ipython",
    "version": 3
   },
   "file_extension": ".py",
   "mimetype": "text/x-python",
   "name": "python",
   "nbconvert_exporter": "python",
   "pygments_lexer": "ipython3",
   "version": "3.6.10"
  }
 },
 "nbformat": 4,
 "nbformat_minor": 4
}
